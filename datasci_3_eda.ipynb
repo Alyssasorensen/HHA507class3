{
  "nbformat": 4,
  "nbformat_minor": 0,
  "metadata": {
    "colab": {
      "provenance": [],
      "authorship_tag": "ABX9TyPOzbazRcDSW/NFzBhgO9aO",
      "include_colab_link": true
    },
    "kernelspec": {
      "name": "python3",
      "display_name": "Python 3"
    },
    "language_info": {
      "name": "python"
    }
  },
  "cells": [
    {
      "cell_type": "markdown",
      "metadata": {
        "id": "view-in-github",
        "colab_type": "text"
      },
      "source": [
        "<a href=\"https://colab.research.google.com/github/Alyssasorensen/datasci_3_eda/blob/main/datasci_3_eda.ipynb\" target=\"_parent\"><img src=\"https://colab.research.google.com/assets/colab-badge.svg\" alt=\"Open In Colab\"/></a>"
      ]
    },
    {
      "cell_type": "markdown",
      "source": [
        "# HHA 507 Homework 3"
      ],
      "metadata": {
        "id": "byrjmK-Ii1D_"
      }
    },
    {
      "cell_type": "markdown",
      "source": [
        "## Univariate Analysis"
      ],
      "metadata": {
        "id": "rbnhwt3kis2J"
      }
    },
    {
      "cell_type": "code",
      "execution_count": 3,
      "metadata": {
        "colab": {
          "base_uri": "https://localhost:8080/"
        },
        "id": "a41UKriEiZlh",
        "outputId": "f96292d2-229d-4702-c2fe-e5acf687068b"
      },
      "outputs": [
        {
          "output_type": "execute_result",
          "data": {
            "text/plain": [
              "Index(['OBJECTID', 'ZIP', 'Anxiety_Di', 'Mood_Disor', 'Alcohol_re', 'Diabetes',\n",
              "       'Hypertensi', 'Asthma', 'F65_FallsER', 'Discharges', 'MH_ER',\n",
              "       'Total_MH', 'Total_ACSC', 'SHAPE_Length', 'SHAPE_Area'],\n",
              "      dtype='object')"
            ]
          },
          "metadata": {},
          "execution_count": 3
        }
      ],
      "source": [
        "import pandas as pd\n",
        "import numpy as np\n",
        "import matplotlib.pyplot as plt\n",
        "\n",
        "## loading the clean .csv file - patients_cleaned.csv\n",
        "\n",
        "df = pd.read_csv('https://raw.githubusercontent.com/Alyssasorensen/datasci_3_eda/main/datasets/processed/Hospitalization_Discharge_Rates.csv')\n",
        "df.columns"
      ]
    },
    {
      "cell_type": "code",
      "source": [
        "# Display the first few rows of the dataset\n",
        "df.head()\n"
      ],
      "metadata": {
        "colab": {
          "base_uri": "https://localhost:8080/",
          "height": 206
        },
        "id": "kf5GtvNRjAyX",
        "outputId": "b1dcfab9-d22f-44b5-96bc-6aab908f99bc"
      },
      "execution_count": 4,
      "outputs": [
        {
          "output_type": "execute_result",
          "data": {
            "text/plain": [
              "   OBJECTID    ZIP  Anxiety_Di  Mood_Disor  Alcohol_re   Diabetes  Hypertensi  \\\n",
              "0         1  60002  393.608997  359.322499  270.177604  69.637883   20.481730   \n",
              "1         2  60010  132.835014  153.848463  177.863833  43.503045   19.501365   \n",
              "2         3  60015  142.476163  231.371546  147.347143  18.720048   16.224042   \n",
              "3         4  60020  201.704730  452.208992  406.662763  90.111739   66.081942   \n",
              "4         5  60030  261.648844  237.033796  250.708822  56.958420   37.972280   \n",
              "\n",
              "      Asthma  F65_FallsER    Discharges       MH_ER     Total_MH  Total_ACSC  \\\n",
              "0  31.405320    14.946770   9590.103093  837.276281  1452.376054           0   \n",
              "1  16.501155     9.941825   8955.508619  388.936419   733.969741           0   \n",
              "2   6.240016    19.079395   8240.135205  496.383297   778.139042           0   \n",
              "3  60.074492    23.283437  13394.283515  911.331251  1506.278873           0   \n",
              "4  37.972280    20.297185  10486.759142  666.999426  1156.907256           0   \n",
              "\n",
              "    SHAPE_Length    SHAPE_Area  \n",
              "0  215525.155184 -1.149062e+09  \n",
              "1  178637.109618 -8.027354e+08  \n",
              "2  111400.890558 -3.674576e+08  \n",
              "3   92363.084625 -1.666177e+08  \n",
              "4  247258.224672 -8.455179e+08  "
            ],
            "text/html": [
              "\n",
              "  <div id=\"df-6b0c0895-0141-47c8-aea8-3ba1523a95bb\" class=\"colab-df-container\">\n",
              "    <div>\n",
              "<style scoped>\n",
              "    .dataframe tbody tr th:only-of-type {\n",
              "        vertical-align: middle;\n",
              "    }\n",
              "\n",
              "    .dataframe tbody tr th {\n",
              "        vertical-align: top;\n",
              "    }\n",
              "\n",
              "    .dataframe thead th {\n",
              "        text-align: right;\n",
              "    }\n",
              "</style>\n",
              "<table border=\"1\" class=\"dataframe\">\n",
              "  <thead>\n",
              "    <tr style=\"text-align: right;\">\n",
              "      <th></th>\n",
              "      <th>OBJECTID</th>\n",
              "      <th>ZIP</th>\n",
              "      <th>Anxiety_Di</th>\n",
              "      <th>Mood_Disor</th>\n",
              "      <th>Alcohol_re</th>\n",
              "      <th>Diabetes</th>\n",
              "      <th>Hypertensi</th>\n",
              "      <th>Asthma</th>\n",
              "      <th>F65_FallsER</th>\n",
              "      <th>Discharges</th>\n",
              "      <th>MH_ER</th>\n",
              "      <th>Total_MH</th>\n",
              "      <th>Total_ACSC</th>\n",
              "      <th>SHAPE_Length</th>\n",
              "      <th>SHAPE_Area</th>\n",
              "    </tr>\n",
              "  </thead>\n",
              "  <tbody>\n",
              "    <tr>\n",
              "      <th>0</th>\n",
              "      <td>1</td>\n",
              "      <td>60002</td>\n",
              "      <td>393.608997</td>\n",
              "      <td>359.322499</td>\n",
              "      <td>270.177604</td>\n",
              "      <td>69.637883</td>\n",
              "      <td>20.481730</td>\n",
              "      <td>31.405320</td>\n",
              "      <td>14.946770</td>\n",
              "      <td>9590.103093</td>\n",
              "      <td>837.276281</td>\n",
              "      <td>1452.376054</td>\n",
              "      <td>0</td>\n",
              "      <td>215525.155184</td>\n",
              "      <td>-1.149062e+09</td>\n",
              "    </tr>\n",
              "    <tr>\n",
              "      <th>1</th>\n",
              "      <td>2</td>\n",
              "      <td>60010</td>\n",
              "      <td>132.835014</td>\n",
              "      <td>153.848463</td>\n",
              "      <td>177.863833</td>\n",
              "      <td>43.503045</td>\n",
              "      <td>19.501365</td>\n",
              "      <td>16.501155</td>\n",
              "      <td>9.941825</td>\n",
              "      <td>8955.508619</td>\n",
              "      <td>388.936419</td>\n",
              "      <td>733.969741</td>\n",
              "      <td>0</td>\n",
              "      <td>178637.109618</td>\n",
              "      <td>-8.027354e+08</td>\n",
              "    </tr>\n",
              "    <tr>\n",
              "      <th>2</th>\n",
              "      <td>3</td>\n",
              "      <td>60015</td>\n",
              "      <td>142.476163</td>\n",
              "      <td>231.371546</td>\n",
              "      <td>147.347143</td>\n",
              "      <td>18.720048</td>\n",
              "      <td>16.224042</td>\n",
              "      <td>6.240016</td>\n",
              "      <td>19.079395</td>\n",
              "      <td>8240.135205</td>\n",
              "      <td>496.383297</td>\n",
              "      <td>778.139042</td>\n",
              "      <td>0</td>\n",
              "      <td>111400.890558</td>\n",
              "      <td>-3.674576e+08</td>\n",
              "    </tr>\n",
              "    <tr>\n",
              "      <th>3</th>\n",
              "      <td>4</td>\n",
              "      <td>60020</td>\n",
              "      <td>201.704730</td>\n",
              "      <td>452.208992</td>\n",
              "      <td>406.662763</td>\n",
              "      <td>90.111739</td>\n",
              "      <td>66.081942</td>\n",
              "      <td>60.074492</td>\n",
              "      <td>23.283437</td>\n",
              "      <td>13394.283515</td>\n",
              "      <td>911.331251</td>\n",
              "      <td>1506.278873</td>\n",
              "      <td>0</td>\n",
              "      <td>92363.084625</td>\n",
              "      <td>-1.666177e+08</td>\n",
              "    </tr>\n",
              "    <tr>\n",
              "      <th>4</th>\n",
              "      <td>5</td>\n",
              "      <td>60030</td>\n",
              "      <td>261.648844</td>\n",
              "      <td>237.033796</td>\n",
              "      <td>250.708822</td>\n",
              "      <td>56.958420</td>\n",
              "      <td>37.972280</td>\n",
              "      <td>37.972280</td>\n",
              "      <td>20.297185</td>\n",
              "      <td>10486.759142</td>\n",
              "      <td>666.999426</td>\n",
              "      <td>1156.907256</td>\n",
              "      <td>0</td>\n",
              "      <td>247258.224672</td>\n",
              "      <td>-8.455179e+08</td>\n",
              "    </tr>\n",
              "  </tbody>\n",
              "</table>\n",
              "</div>\n",
              "    <div class=\"colab-df-buttons\">\n",
              "\n",
              "  <div class=\"colab-df-container\">\n",
              "    <button class=\"colab-df-convert\" onclick=\"convertToInteractive('df-6b0c0895-0141-47c8-aea8-3ba1523a95bb')\"\n",
              "            title=\"Convert this dataframe to an interactive table.\"\n",
              "            style=\"display:none;\">\n",
              "\n",
              "  <svg xmlns=\"http://www.w3.org/2000/svg\" height=\"24px\" viewBox=\"0 -960 960 960\">\n",
              "    <path d=\"M120-120v-720h720v720H120Zm60-500h600v-160H180v160Zm220 220h160v-160H400v160Zm0 220h160v-160H400v160ZM180-400h160v-160H180v160Zm440 0h160v-160H620v160ZM180-180h160v-160H180v160Zm440 0h160v-160H620v160Z\"/>\n",
              "  </svg>\n",
              "    </button>\n",
              "\n",
              "  <style>\n",
              "    .colab-df-container {\n",
              "      display:flex;\n",
              "      gap: 12px;\n",
              "    }\n",
              "\n",
              "    .colab-df-convert {\n",
              "      background-color: #E8F0FE;\n",
              "      border: none;\n",
              "      border-radius: 50%;\n",
              "      cursor: pointer;\n",
              "      display: none;\n",
              "      fill: #1967D2;\n",
              "      height: 32px;\n",
              "      padding: 0 0 0 0;\n",
              "      width: 32px;\n",
              "    }\n",
              "\n",
              "    .colab-df-convert:hover {\n",
              "      background-color: #E2EBFA;\n",
              "      box-shadow: 0px 1px 2px rgba(60, 64, 67, 0.3), 0px 1px 3px 1px rgba(60, 64, 67, 0.15);\n",
              "      fill: #174EA6;\n",
              "    }\n",
              "\n",
              "    .colab-df-buttons div {\n",
              "      margin-bottom: 4px;\n",
              "    }\n",
              "\n",
              "    [theme=dark] .colab-df-convert {\n",
              "      background-color: #3B4455;\n",
              "      fill: #D2E3FC;\n",
              "    }\n",
              "\n",
              "    [theme=dark] .colab-df-convert:hover {\n",
              "      background-color: #434B5C;\n",
              "      box-shadow: 0px 1px 3px 1px rgba(0, 0, 0, 0.15);\n",
              "      filter: drop-shadow(0px 1px 2px rgba(0, 0, 0, 0.3));\n",
              "      fill: #FFFFFF;\n",
              "    }\n",
              "  </style>\n",
              "\n",
              "    <script>\n",
              "      const buttonEl =\n",
              "        document.querySelector('#df-6b0c0895-0141-47c8-aea8-3ba1523a95bb button.colab-df-convert');\n",
              "      buttonEl.style.display =\n",
              "        google.colab.kernel.accessAllowed ? 'block' : 'none';\n",
              "\n",
              "      async function convertToInteractive(key) {\n",
              "        const element = document.querySelector('#df-6b0c0895-0141-47c8-aea8-3ba1523a95bb');\n",
              "        const dataTable =\n",
              "          await google.colab.kernel.invokeFunction('convertToInteractive',\n",
              "                                                    [key], {});\n",
              "        if (!dataTable) return;\n",
              "\n",
              "        const docLinkHtml = 'Like what you see? Visit the ' +\n",
              "          '<a target=\"_blank\" href=https://colab.research.google.com/notebooks/data_table.ipynb>data table notebook</a>'\n",
              "          + ' to learn more about interactive tables.';\n",
              "        element.innerHTML = '';\n",
              "        dataTable['output_type'] = 'display_data';\n",
              "        await google.colab.output.renderOutput(dataTable, element);\n",
              "        const docLink = document.createElement('div');\n",
              "        docLink.innerHTML = docLinkHtml;\n",
              "        element.appendChild(docLink);\n",
              "      }\n",
              "    </script>\n",
              "  </div>\n",
              "\n",
              "\n",
              "<div id=\"df-2280b7fe-279a-49cb-9fd8-28489a80bcab\">\n",
              "  <button class=\"colab-df-quickchart\" onclick=\"quickchart('df-2280b7fe-279a-49cb-9fd8-28489a80bcab')\"\n",
              "            title=\"Suggest charts.\"\n",
              "            style=\"display:none;\">\n",
              "\n",
              "<svg xmlns=\"http://www.w3.org/2000/svg\" height=\"24px\"viewBox=\"0 0 24 24\"\n",
              "     width=\"24px\">\n",
              "    <g>\n",
              "        <path d=\"M19 3H5c-1.1 0-2 .9-2 2v14c0 1.1.9 2 2 2h14c1.1 0 2-.9 2-2V5c0-1.1-.9-2-2-2zM9 17H7v-7h2v7zm4 0h-2V7h2v10zm4 0h-2v-4h2v4z\"/>\n",
              "    </g>\n",
              "</svg>\n",
              "  </button>\n",
              "\n",
              "<style>\n",
              "  .colab-df-quickchart {\n",
              "      --bg-color: #E8F0FE;\n",
              "      --fill-color: #1967D2;\n",
              "      --hover-bg-color: #E2EBFA;\n",
              "      --hover-fill-color: #174EA6;\n",
              "      --disabled-fill-color: #AAA;\n",
              "      --disabled-bg-color: #DDD;\n",
              "  }\n",
              "\n",
              "  [theme=dark] .colab-df-quickchart {\n",
              "      --bg-color: #3B4455;\n",
              "      --fill-color: #D2E3FC;\n",
              "      --hover-bg-color: #434B5C;\n",
              "      --hover-fill-color: #FFFFFF;\n",
              "      --disabled-bg-color: #3B4455;\n",
              "      --disabled-fill-color: #666;\n",
              "  }\n",
              "\n",
              "  .colab-df-quickchart {\n",
              "    background-color: var(--bg-color);\n",
              "    border: none;\n",
              "    border-radius: 50%;\n",
              "    cursor: pointer;\n",
              "    display: none;\n",
              "    fill: var(--fill-color);\n",
              "    height: 32px;\n",
              "    padding: 0;\n",
              "    width: 32px;\n",
              "  }\n",
              "\n",
              "  .colab-df-quickchart:hover {\n",
              "    background-color: var(--hover-bg-color);\n",
              "    box-shadow: 0 1px 2px rgba(60, 64, 67, 0.3), 0 1px 3px 1px rgba(60, 64, 67, 0.15);\n",
              "    fill: var(--button-hover-fill-color);\n",
              "  }\n",
              "\n",
              "  .colab-df-quickchart-complete:disabled,\n",
              "  .colab-df-quickchart-complete:disabled:hover {\n",
              "    background-color: var(--disabled-bg-color);\n",
              "    fill: var(--disabled-fill-color);\n",
              "    box-shadow: none;\n",
              "  }\n",
              "\n",
              "  .colab-df-spinner {\n",
              "    border: 2px solid var(--fill-color);\n",
              "    border-color: transparent;\n",
              "    border-bottom-color: var(--fill-color);\n",
              "    animation:\n",
              "      spin 1s steps(1) infinite;\n",
              "  }\n",
              "\n",
              "  @keyframes spin {\n",
              "    0% {\n",
              "      border-color: transparent;\n",
              "      border-bottom-color: var(--fill-color);\n",
              "      border-left-color: var(--fill-color);\n",
              "    }\n",
              "    20% {\n",
              "      border-color: transparent;\n",
              "      border-left-color: var(--fill-color);\n",
              "      border-top-color: var(--fill-color);\n",
              "    }\n",
              "    30% {\n",
              "      border-color: transparent;\n",
              "      border-left-color: var(--fill-color);\n",
              "      border-top-color: var(--fill-color);\n",
              "      border-right-color: var(--fill-color);\n",
              "    }\n",
              "    40% {\n",
              "      border-color: transparent;\n",
              "      border-right-color: var(--fill-color);\n",
              "      border-top-color: var(--fill-color);\n",
              "    }\n",
              "    60% {\n",
              "      border-color: transparent;\n",
              "      border-right-color: var(--fill-color);\n",
              "    }\n",
              "    80% {\n",
              "      border-color: transparent;\n",
              "      border-right-color: var(--fill-color);\n",
              "      border-bottom-color: var(--fill-color);\n",
              "    }\n",
              "    90% {\n",
              "      border-color: transparent;\n",
              "      border-bottom-color: var(--fill-color);\n",
              "    }\n",
              "  }\n",
              "</style>\n",
              "\n",
              "  <script>\n",
              "    async function quickchart(key) {\n",
              "      const quickchartButtonEl =\n",
              "        document.querySelector('#' + key + ' button');\n",
              "      quickchartButtonEl.disabled = true;  // To prevent multiple clicks.\n",
              "      quickchartButtonEl.classList.add('colab-df-spinner');\n",
              "      try {\n",
              "        const charts = await google.colab.kernel.invokeFunction(\n",
              "            'suggestCharts', [key], {});\n",
              "      } catch (error) {\n",
              "        console.error('Error during call to suggestCharts:', error);\n",
              "      }\n",
              "      quickchartButtonEl.classList.remove('colab-df-spinner');\n",
              "      quickchartButtonEl.classList.add('colab-df-quickchart-complete');\n",
              "    }\n",
              "    (() => {\n",
              "      let quickchartButtonEl =\n",
              "        document.querySelector('#df-2280b7fe-279a-49cb-9fd8-28489a80bcab button');\n",
              "      quickchartButtonEl.style.display =\n",
              "        google.colab.kernel.accessAllowed ? 'block' : 'none';\n",
              "    })();\n",
              "  </script>\n",
              "</div>\n",
              "    </div>\n",
              "  </div>\n"
            ]
          },
          "metadata": {},
          "execution_count": 4
        }
      ]
    },
    {
      "cell_type": "markdown",
      "source": [
        "## Hospitalization Discharge Rates in Lake County, Illinois. Explanation of field attributes:\n",
        "\n",
        "Anxiety disorders are characterized by excessive fear or stress that is difficult to control and negatively and substantially impacts daily functioning. This is a rate per 100,000. Mood disorders are characterized by the elevation or lowering of a person's mood, such as depression or bipolar disorder. This is a rate per 100,000. Alcohol rehabilitation is a term for the medical and/or psychotherapeutic treatment for dependency on alcohol. This is a rate per 100,000. Diabetes is a chronic disease in which blood sugar (glucose) levels are above normal. This is a rate per 100,000. Hypertension is a chronic disease in which blood pressure (the force of the blood flowing blood vessels) is consistently high. This is a rate per 100,000. Asthma is a condition in which airways narrow, swell, and produce extra mucus leading to difficulty in breathing. This is a rate per 100,000. Senior falls refers to individuals who are 65 years or older who have a fall and injure themselves. This is a rate per 100,000. Hospital discharge is defined as the release of a patient who has stayed at least one night in hospital. This is a rate per 100,000. Mental health conditions/ or mental illnesses refer to disorders generally characterized by dysregulation of mood, thought, and/or behavior. This is a rate per 100,000. Mental health conditions/ or mental illnesses refer to disorders generally characterized by dysregulation of mood, thought, and/or behavior. This is a rate per 100,000. Ambulatory Care Sensitive Conditions (ACSCs) are defined as conditions where effective community care and case management can help prevent the need for hospital admission. This is a rate per 100,000."
      ],
      "metadata": {
        "id": "usEHPQ6an69H"
      }
    },
    {
      "cell_type": "code",
      "source": [
        "# Calculate measures of central tendency\n",
        "mean = df['Diabetes'].mean()\n",
        "median = df['Diabetes'].median()\n",
        "mode = df['Diabetes'].mode().values[0]"
      ],
      "metadata": {
        "id": "CuUpJzFTkdcG"
      },
      "execution_count": 5,
      "outputs": []
    },
    {
      "cell_type": "code",
      "source": [
        "# Calculate measures of central tendency\n",
        "mean = df['Hypertensi'].mean()\n",
        "median = df['Hypertensi'].median()\n",
        "mode = df['Hypertensi'].mode().values[0]"
      ],
      "metadata": {
        "id": "EGfLg0wdpBcc"
      },
      "execution_count": 10,
      "outputs": []
    },
    {
      "cell_type": "code",
      "source": [
        "# Calculate measures of spread\n",
        "range_val = df['Diabetes'].max() - df['Diabetes'].min()\n",
        "variance = df['Diabetes'].var()\n",
        "std_deviation = df['Diabetes'].std()\n",
        "iqr = df['Diabetes'].quantile(0.75) - df['Diabetes'].quantile(0.25)\n"
      ],
      "metadata": {
        "id": "ap6FxA9Wkh5c"
      },
      "execution_count": 6,
      "outputs": []
    },
    {
      "cell_type": "code",
      "source": [
        "# Calculate measures of spread\n",
        "range_val = df['Hypertensi'].max() - df['Hypertensi'].min()\n",
        "variance = df['Hypertensi'].var()\n",
        "std_deviation = df['Hypertensi'].std()\n",
        "iqr = df['Hypertensi'].quantile(0.75) - df['Hypertensi'].quantile(0.25)"
      ],
      "metadata": {
        "id": "rES-Au3fpPJy"
      },
      "execution_count": 11,
      "outputs": []
    },
    {
      "cell_type": "code",
      "source": [
        "# Print the results\n",
        "print(\"Measures of Central Tendency:\")\n",
        "print(f\"Mean: {mean}\")\n",
        "print(f\"Median: {median}\")\n",
        "print(f\"Mode: {mode}\")\n",
        "print(\"\\nMeasures of Spread:\")\n",
        "print(f\"Range: {range_val}\")\n",
        "print(f\"Variance: {variance}\")\n",
        "print(f\"Standard Deviation: {std_deviation}\")\n",
        "print(f\"IQR (Interquartile Range): {iqr}\")"
      ],
      "metadata": {
        "colab": {
          "base_uri": "https://localhost:8080/"
        },
        "id": "yufIukAYkjOn",
        "outputId": "f53bbf65-10fb-4ed6-bab4-c8d416be55d6"
      },
      "execution_count": 7,
      "outputs": [
        {
          "output_type": "stream",
          "name": "stdout",
          "text": [
            "Measures of Central Tendency:\n",
            "Mean: 59.954171429357686\n",
            "Median: 50.45171315855001\n",
            "Mode: 18.0722891566\n",
            "\n",
            "Measures of Spread:\n",
            "Range: 104.2042782064\n",
            "Variance: 993.374769767052\n",
            "Standard Deviation: 31.51784843175454\n",
            "IQR (Interquartile Range): 37.709490956749995\n"
          ]
        }
      ]
    },
    {
      "cell_type": "code",
      "source": [
        "# Print the results\n",
        "print(\"Measures of Central Tendency:\")\n",
        "print(f\"Mean: {mean}\")\n",
        "print(f\"Median: {median}\")\n",
        "print(f\"Mode: {mode}\")\n",
        "print(\"\\nMeasures of Spread:\")\n",
        "print(f\"Range: {range_val}\")\n",
        "print(f\"Variance: {variance}\")\n",
        "print(f\"Standard Deviation: {std_deviation}\")\n",
        "print(f\"IQR (Interquartile Range): {iqr}\")"
      ],
      "metadata": {
        "colab": {
          "base_uri": "https://localhost:8080/"
        },
        "id": "hDsvxFURpXDs",
        "outputId": "ff4f7cf6-04fe-42f9-b7b0-dc533db7f3dc"
      },
      "execution_count": 12,
      "outputs": [
        {
          "output_type": "stream",
          "name": "stdout",
          "text": [
            "Measures of Central Tendency:\n",
            "Mean: 36.230231415851534\n",
            "Median: 28.3367989019\n",
            "Mode: 6.02409638554\n",
            "\n",
            "Measures of Spread:\n",
            "Range: 136.26136381946\n",
            "Variance: 800.062979196504\n",
            "Standard Deviation: 28.28538455097445\n",
            "IQR (Interquartile Range): 22.5964832189\n"
          ]
        }
      ]
    },
    {
      "cell_type": "code",
      "source": [
        "# Create a histogram\n",
        "plt.figure(figsize=(8, 6))\n",
        "plt.hist(df['Diabetes'], bins=20, color='skyblue', edgecolor='black')\n",
        "plt.title('Distribution of Diabetes')\n",
        "plt.xlabel('Diabetes')\n",
        "plt.ylabel('Frequency')\n",
        "plt.grid(True)\n",
        "plt.show()"
      ],
      "metadata": {
        "colab": {
          "base_uri": "https://localhost:8080/",
          "height": 564
        },
        "id": "THVaLpwcl66f",
        "outputId": "8ea0b479-93d0-4e4c-e9fe-62bf0287f532"
      },
      "execution_count": 8,
      "outputs": [
        {
          "output_type": "display_data",
          "data": {
            "text/plain": [
              "<Figure size 800x600 with 1 Axes>"
            ],
            "image/png": "[encoded data removed]"
          },
          "metadata": {}
        }
      ]
    },
    {
      "cell_type": "code",
      "source": [
        "# Create a histogram\n",
        "plt.figure(figsize=(8, 6))\n",
        "plt.hist(df['Hypertensi'], bins=20, color='navy', edgecolor='black')\n",
        "plt.title('Distribution of Hypertension')\n",
        "plt.xlabel('Hypertension')\n",
        "plt.ylabel('Frequency')\n",
        "plt.grid(True)\n",
        "plt.show()"
      ],
      "metadata": {
        "colab": {
          "base_uri": "https://localhost:8080/",
          "height": 564
        },
        "id": "TTDQOG4UpdsL",
        "outputId": "33dcaa69-922a-4fdc-e79f-fe906a9caff0"
      },
      "execution_count": 26,
      "outputs": [
        {
          "output_type": "display_data",
          "data": {
            "text/plain": [
              "<Figure size 800x600 with 1 Axes>"
            ],
            "image/png": "[encoded data removed]"
          },
          "metadata": {}
        }
      ]
    },
    {
      "cell_type": "markdown",
      "source": [
        "## Bivariate Analysis"
      ],
      "metadata": {
        "id": "zeBWKkG1xV-_"
      }
    },
    {
      "cell_type": "code",
      "source": [
        "import pandas as pd\n",
        "import numpy as np\n",
        "import matplotlib.pyplot as plt\n",
        "import seaborn as sns"
      ],
      "metadata": {
        "id": "lsJrswz6rYzS"
      },
      "execution_count": 16,
      "outputs": []
    },
    {
      "cell_type": "code",
      "source": [
        "# Scatter plot for Diabetes vs. Discharges\n",
        "plt.figure(figsize=(8, 6))\n",
        "plt.scatter(df['Diabetes'], df['Discharges'], alpha=0.5, color='blue')\n",
        "plt.title('Scatter Plot: Diabetes vs. Discharges')\n",
        "plt.xlabel('Diabetes')\n",
        "plt.ylabel('Discharges')\n",
        "plt.grid(True)\n",
        "plt.show()"
      ],
      "metadata": {
        "colab": {
          "base_uri": "https://localhost:8080/",
          "height": 564
        },
        "id": "lLfmFO1PrgX6",
        "outputId": "bf8000a3-6898-474b-e721-6ac38291e8f6"
      },
      "execution_count": 19,
      "outputs": [
        {
          "output_type": "display_data",
          "data": {
            "text/plain": [
              "<Figure size 800x600 with 1 Axes>"
            ],
            "image/png": "[encoded data removed]"
          },
          "metadata": {}
        }
      ]
    },
    {
      "cell_type": "code",
      "source": [
        "# Scatter plot for Hypertensi vs. Discharges\n",
        "plt.figure(figsize=(8, 6))\n",
        "plt.scatter(df['Hypertensi'], df['Discharges'], alpha=0.5, color='red')\n",
        "plt.title('Scatter Plot: Hypertension vs. Discharges')\n",
        "plt.xlabel('Hypertension')\n",
        "plt.ylabel('Discharges')\n",
        "plt.grid(True)\n",
        "plt.show()"
      ],
      "metadata": {
        "colab": {
          "base_uri": "https://localhost:8080/",
          "height": 564
        },
        "id": "z5Cn1kiDwDwO",
        "outputId": "bccfbd35-a0f1-4a58-9078-801560d4c090"
      },
      "execution_count": 28,
      "outputs": [
        {
          "output_type": "display_data",
          "data": {
            "text/plain": [
              "<Figure size 800x600 with 1 Axes>"
            ],
            "image/png": "[encoded data removed]"
          },
          "metadata": {}
        }
      ]
    }
  ]
}